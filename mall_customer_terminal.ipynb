{
 "cells": [
  {
   "cell_type": "code",
   "execution_count": 8,
   "id": "82383200-e462-41a3-bb95-ee13028e399a",
   "metadata": {},
   "outputs": [],
   "source": [
    "import pandas as pd"
   ]
  },
  {
   "cell_type": "code",
   "execution_count": 9,
   "id": "b3790835-f6fd-4831-845e-d96dd8db43d6",
   "metadata": {},
   "outputs": [],
   "source": [
    "df = pd.read_csv(\"mall_customer_segmentation_sample.csv\")"
   ]
  },
  {
   "cell_type": "code",
   "execution_count": 10,
   "id": "41df2768-0d40-471d-97bd-08e620fb2da6",
   "metadata": {},
   "outputs": [
    {
     "name": "stdout",
     "output_type": "stream",
     "text": [
      "<class 'pandas.core.frame.DataFrame'>\n",
      "RangeIndex: 1010 entries, 0 to 1009\n",
      "Data columns (total 5 columns):\n",
      " #   Column                  Non-Null Count  Dtype  \n",
      "---  ------                  --------------  -----  \n",
      " 0   CustomerID              1010 non-null   int64  \n",
      " 1   Gender                  1004 non-null   object \n",
      " 2   Age                     991 non-null    float64\n",
      " 3   Annual Income (k$)      996 non-null    float64\n",
      " 4   Spending Score (1-100)  999 non-null    float64\n",
      "dtypes: float64(3), int64(1), object(1)\n",
      "memory usage: 39.6+ KB\n",
      "None\n"
     ]
    }
   ],
   "source": [
    "print(df.info())"
   ]
  },
  {
   "cell_type": "code",
   "execution_count": 11,
   "id": "619635b6-4ff3-43e6-9d5c-3ec56de26739",
   "metadata": {},
   "outputs": [
    {
     "name": "stdout",
     "output_type": "stream",
     "text": [
      "   CustomerID  Gender   Age  Annual Income (k$)  Spending Score (1-100)\n",
      "0           1  FEMALE  53.0                 NaN                    41.0\n",
      "1           2    Male  66.0               144.0                    47.0\n",
      "2           3    Male  44.0                59.0                    14.0\n",
      "3           4  FEMALE  56.0                25.0                    12.0\n",
      "4           5    MALE  56.0                78.0                     1.0\n"
     ]
    }
   ],
   "source": [
    "print(df.head())"
   ]
  },
  {
   "cell_type": "code",
   "execution_count": 13,
   "id": "9875aa8c-4efe-4b8a-82eb-22708e3789fe",
   "metadata": {},
   "outputs": [
    {
     "name": "stdout",
     "output_type": "stream",
     "text": [
      "missing values before\n",
      " <bound method DataFrame.sum of       CustomerID  Gender    Age  Annual Income (k$)  Spending Score (1-100)\n",
      "0          False   False  False                True                   False\n",
      "1          False   False  False               False                   False\n",
      "2          False   False  False               False                   False\n",
      "3          False   False  False               False                   False\n",
      "4          False   False  False               False                   False\n",
      "...          ...     ...    ...                 ...                     ...\n",
      "1005       False   False  False               False                   False\n",
      "1006       False   False  False               False                   False\n",
      "1007       False   False  False               False                   False\n",
      "1008       False   False  False               False                   False\n",
      "1009       False   False  False               False                   False\n",
      "\n",
      "[1010 rows x 5 columns]>\n"
     ]
    }
   ],
   "source": [
    "print(\"missing values before\\n\",df.isnull().sum)"
   ]
  },
  {
   "cell_type": "code",
   "execution_count": 14,
   "id": "e0af1914-8c2f-4492-9573-7ba11e6f8995",
   "metadata": {},
   "outputs": [],
   "source": [
    "df = df.dropna()"
   ]
  },
  {
   "cell_type": "code",
   "execution_count": 15,
   "id": "72c5531e-6941-4b6e-98c7-3539e6f9ae88",
   "metadata": {},
   "outputs": [
    {
     "name": "stdout",
     "output_type": "stream",
     "text": [
      "duplicate before\n",
      " <bound method Series.sum of 1       False\n",
      "2       False\n",
      "3       False\n",
      "4       False\n",
      "5       False\n",
      "        ...  \n",
      "1005     True\n",
      "1006     True\n",
      "1007     True\n",
      "1008     True\n",
      "1009     True\n",
      "Length: 962, dtype: bool>\n"
     ]
    }
   ],
   "source": [
    "print(\"duplicate before\\n\",df.duplicated().sum)"
   ]
  },
  {
   "cell_type": "code",
   "execution_count": 16,
   "id": "b27379ba-0b40-4333-b6ac-f10cfc1e601a",
   "metadata": {},
   "outputs": [],
   "source": [
    "df= df.drop_duplicates()"
   ]
  },
  {
   "cell_type": "code",
   "execution_count": 24,
   "id": "c4f7b816-197c-46ea-9e87-e047a7c0358c",
   "metadata": {},
   "outputs": [],
   "source": [
    "df['Gender'] = df['Gender'].str.strip().str.capitalize()"
   ]
  },
  {
   "cell_type": "code",
   "execution_count": 25,
   "id": "90e4aa33-92e8-4dba-b44f-6c0afccaa1a7",
   "metadata": {},
   "outputs": [],
   "source": [
    "df = df.rename(columns={\n",
    "    \"Annual Income (k$)\": \"annual_income\",\n",
    "    \"Spending Score (1-100)\": \"spending_score\",\n",
    "    \"CustomerID\": \"customer_id\",\n",
    "    \"Gender\": \"gender\",\n",
    "    \"Age\": \"age\"\n",
    "})"
   ]
  },
  {
   "cell_type": "code",
   "execution_count": 26,
   "id": "cce0fb23-2555-4b0e-b781-1d824aaab513",
   "metadata": {},
   "outputs": [
    {
     "name": "stdout",
     "output_type": "stream",
     "text": [
      "<class 'pandas.core.frame.DataFrame'>\n",
      "Index: 952 entries, 1 to 999\n",
      "Data columns (total 5 columns):\n",
      " #   Column          Non-Null Count  Dtype  \n",
      "---  ------          --------------  -----  \n",
      " 0   customer_id     952 non-null    int64  \n",
      " 1   gender          952 non-null    object \n",
      " 2   age             952 non-null    float64\n",
      " 3   annual_income   952 non-null    float64\n",
      " 4   spending_score  952 non-null    float64\n",
      "dtypes: float64(3), int64(1), object(1)\n",
      "memory usage: 44.6+ KB\n",
      "None\n"
     ]
    }
   ],
   "source": [
    "print(df.info())"
   ]
  },
  {
   "cell_type": "code",
   "execution_count": 27,
   "id": "49d80e65-a3d5-4f3f-8286-21ebc75c9559",
   "metadata": {},
   "outputs": [
    {
     "name": "stdout",
     "output_type": "stream",
     "text": [
      "<class 'pandas.core.frame.DataFrame'>\n",
      "Index: 952 entries, 1 to 999\n",
      "Data columns (total 5 columns):\n",
      " #   Column          Non-Null Count  Dtype  \n",
      "---  ------          --------------  -----  \n",
      " 0   customer_id     952 non-null    int64  \n",
      " 1   gender          952 non-null    object \n",
      " 2   age             952 non-null    float64\n",
      " 3   annual_income   952 non-null    float64\n",
      " 4   spending_score  952 non-null    float64\n",
      "dtypes: float64(3), int64(1), object(1)\n",
      "memory usage: 44.6+ KB\n",
      "None\n"
     ]
    }
   ],
   "source": [
    "print(df.info())"
   ]
  },
  {
   "cell_type": "code",
   "execution_count": 28,
   "id": "ea83aab2-75a5-4180-aa71-c325c469ace1",
   "metadata": {},
   "outputs": [
    {
     "name": "stdout",
     "output_type": "stream",
     "text": [
      "   customer_id  gender   age  annual_income  spending_score\n",
      "1            2    Male  66.0          144.0            47.0\n",
      "2            3    Male  44.0           59.0            14.0\n",
      "3            4  Female  56.0           25.0            12.0\n",
      "4            5    Male  56.0           78.0             1.0\n",
      "5            6    Male  68.0          127.0            40.0\n"
     ]
    }
   ],
   "source": [
    "print(df.head())"
   ]
  },
  {
   "cell_type": "code",
   "execution_count": 29,
   "id": "8960096a-427a-40eb-82cf-078c2174423c",
   "metadata": {},
   "outputs": [
    {
     "ename": "NameError",
     "evalue": "name 'false' is not defined",
     "output_type": "error",
     "traceback": [
      "\u001b[1;31m---------------------------------------------------------------------------\u001b[0m",
      "\u001b[1;31mNameError\u001b[0m                                 Traceback (most recent call last)",
      "Cell \u001b[1;32mIn[29], line 1\u001b[0m\n\u001b[1;32m----> 1\u001b[0m df\u001b[38;5;241m.\u001b[39mto_csv(\u001b[38;5;124m\"\u001b[39m\u001b[38;5;124mmall_customer_segmentation_sample.csv\u001b[39m\u001b[38;5;124m\"\u001b[39m, index\u001b[38;5;241m=\u001b[39mfalse)\n",
      "\u001b[1;31mNameError\u001b[0m: name 'false' is not defined"
     ]
    }
   ],
   "source": [
    "df.to_csv(\"mall_customer_segmentation_sample.csv\", index=false)"
   ]
  },
  {
   "cell_type": "code",
   "execution_count": 30,
   "id": "368a54e3-57d5-49b9-8098-000b16357d2c",
   "metadata": {},
   "outputs": [],
   "source": [
    "df.to_csv(\"cleaned_mall_customer_data.csv\", index=False)"
   ]
  },
  {
   "cell_type": "code",
   "execution_count": 31,
   "id": "f065129e-db30-4585-b29c-6d5a0e038df2",
   "metadata": {},
   "outputs": [
    {
     "name": "stdout",
     "output_type": "stream",
     "text": [
      "   customer_id  gender   age  annual_income  spending_score\n",
      "1            2    Male  66.0          144.0            47.0\n",
      "2            3    Male  44.0           59.0            14.0\n",
      "3            4  Female  56.0           25.0            12.0\n",
      "4            5    Male  56.0           78.0             1.0\n",
      "5            6    Male  68.0          127.0            40.0\n"
     ]
    }
   ],
   "source": [
    "print(df.head())"
   ]
  },
  {
   "cell_type": "code",
   "execution_count": null,
   "id": "bee01019-fe09-43a5-a898-26902fb473a0",
   "metadata": {},
   "outputs": [],
   "source": []
  }
 ],
 "metadata": {
  "kernelspec": {
   "display_name": "Python 3 (ipykernel)",
   "language": "python",
   "name": "python3"
  },
  "language_info": {
   "codemirror_mode": {
    "name": "ipython",
    "version": 3
   },
   "file_extension": ".py",
   "mimetype": "text/x-python",
   "name": "python",
   "nbconvert_exporter": "python",
   "pygments_lexer": "ipython3",
   "version": "3.13.5"
  }
 },
 "nbformat": 4,
 "nbformat_minor": 5
}
